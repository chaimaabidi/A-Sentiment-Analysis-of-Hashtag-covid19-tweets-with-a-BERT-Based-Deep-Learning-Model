{
  "nbformat": 4,
  "nbformat_minor": 0,
  "metadata": {
    "colab": {
      "name": "Classification.ML.ipynb",
      "provenance": []
    },
    "kernelspec": {
      "name": "python3",
      "display_name": "Python 3"
    },
    "language_info": {
      "name": "python"
    }
  },
  "cells": [
    {
      "cell_type": "code",
      "metadata": {
        "colab": {
          "base_uri": "https://localhost:8080/"
        },
        "id": "jZy5lYEP37PS",
        "outputId": "31d8ebba-6420-4295-e11f-c23314e9a599"
      },
      "source": [
        "import nltk\n",
        "from nltk import word_tokenize, pos_tag , sent_tokenize\n",
        "import pandas as pd\n",
        "import plotly.graph_objects as go\n",
        "import numpy as np\n",
        "import plotly.io as pio\n",
        "import sklearn\n",
        "import seaborn as sns\n",
        "pio.renderers.default = \"svg\"\n",
        "from sklearn.model_selection import train_test_split\n",
        "import matplotlib.pyplot as plt\n",
        "!pip install pywaffle matplotlib\n",
        "from pywaffle import Waffle\n",
        "from wordcloud import WordCloud, STOPWORDS\n",
        "from nltk.stem import WordNetLemmatizer \n",
        "nltk.download('averaged_perceptron_tagger')\n",
        "%matplotlib inline"
      ],
      "execution_count": 2,
      "outputs": [
        {
          "output_type": "stream",
          "name": "stdout",
          "text": [
            "Requirement already satisfied: pywaffle in /usr/local/lib/python3.7/dist-packages (0.6.4)\n",
            "Requirement already satisfied: matplotlib in /usr/local/lib/python3.7/dist-packages (3.2.2)\n",
            "Requirement already satisfied: kiwisolver>=1.0.1 in /usr/local/lib/python3.7/dist-packages (from matplotlib) (1.3.2)\n",
            "Requirement already satisfied: python-dateutil>=2.1 in /usr/local/lib/python3.7/dist-packages (from matplotlib) (2.8.2)\n",
            "Requirement already satisfied: cycler>=0.10 in /usr/local/lib/python3.7/dist-packages (from matplotlib) (0.11.0)\n",
            "Requirement already satisfied: numpy>=1.11 in /usr/local/lib/python3.7/dist-packages (from matplotlib) (1.19.5)\n",
            "Requirement already satisfied: pyparsing!=2.0.4,!=2.1.2,!=2.1.6,>=2.0.1 in /usr/local/lib/python3.7/dist-packages (from matplotlib) (3.0.7)\n",
            "Requirement already satisfied: six>=1.5 in /usr/local/lib/python3.7/dist-packages (from python-dateutil>=2.1->matplotlib) (1.15.0)\n",
            "[nltk_data] Downloading package averaged_perceptron_tagger to\n",
            "[nltk_data]     /root/nltk_data...\n",
            "[nltk_data]   Package averaged_perceptron_tagger is already up-to-\n",
            "[nltk_data]       date!\n"
          ]
        }
      ]
    },
    {
      "cell_type": "markdown",
      "metadata": {
        "id": "gHR55RN163oP"
      },
      "source": [
        "# **Présentation du Dataset et analyse des variables**"
      ]
    },
    {
      "cell_type": "code",
      "metadata": {
        "colab": {
          "base_uri": "https://localhost:8080/",
          "height": 453
        },
        "id": "1wDp_7BC6zZ1",
        "outputId": "964051b9-1af9-4747-a135-ba0ed240e672"
      },
      "source": [
        "data = pd.read_csv(\"/content/sample_data/covid19_tweets[1].csv\",encoding='latin1')\n",
        "df=data\n",
        "df.head(5)"
      ],
      "execution_count": 4,
      "outputs": [
        {
          "output_type": "execute_result",
          "data": {
            "text/html": [
              "\n",
              "  <div id=\"df-4c735466-4c13-4612-b307-7b20824147ac\">\n",
              "    <div class=\"colab-df-container\">\n",
              "      <div>\n",
              "<style scoped>\n",
              "    .dataframe tbody tr th:only-of-type {\n",
              "        vertical-align: middle;\n",
              "    }\n",
              "\n",
              "    .dataframe tbody tr th {\n",
              "        vertical-align: top;\n",
              "    }\n",
              "\n",
              "    .dataframe thead th {\n",
              "        text-align: right;\n",
              "    }\n",
              "</style>\n",
              "<table border=\"1\" class=\"dataframe\">\n",
              "  <thead>\n",
              "    <tr style=\"text-align: right;\">\n",
              "      <th></th>\n",
              "      <th>username</th>\n",
              "      <th>acctdesc</th>\n",
              "      <th>location</th>\n",
              "      <th>following</th>\n",
              "      <th>followers</th>\n",
              "      <th>totaltweets</th>\n",
              "      <th>usercreatedts</th>\n",
              "      <th>tweetcreatedts</th>\n",
              "      <th>retweetcount</th>\n",
              "      <th>text</th>\n",
              "      <th>hashtags</th>\n",
              "    </tr>\n",
              "  </thead>\n",
              "  <tbody>\n",
              "    <tr>\n",
              "      <th>0</th>\n",
              "      <td>GenerasiYeremia</td>\n",
              "      <td>â××× ××××¨××¡× ×××¤××¢ ××§×¨××....</td>\n",
              "      <td>1 Korintus 10:23; Daniel 9:27</td>\n",
              "      <td>1869.0</td>\n",
              "      <td>2365.0</td>\n",
              "      <td>7415.0</td>\n",
              "      <td>2020-05-18 12:44:27</td>\n",
              "      <td>2021-01-18 05:20:36</td>\n",
              "      <td>0.0</td>\n",
              "      <td>@TheBelieverJC Amen\\n\\n#Akhirzaman\\n#Endtimes\\...</td>\n",
              "      <td>[{'text': 'Akhirzaman', 'indices': [21, 32]}, ...</td>\n",
              "    </tr>\n",
              "    <tr>\n",
              "      <th>1</th>\n",
              "      <td>CuyahogaOEM</td>\n",
              "      <td>Cuyahoga Co. Office of Emergency Management. S...</td>\n",
              "      <td>Cuyahoga County, OH</td>\n",
              "      <td>212.0</td>\n",
              "      <td>1180.0</td>\n",
              "      <td>8687.0</td>\n",
              "      <td>2014-08-20 18:02:05</td>\n",
              "      <td>2021-01-18 05:20:32</td>\n",
              "      <td>47.0</td>\n",
              "      <td>Our new vaccine provider tool shows locations ...</td>\n",
              "      <td>[{'text': 'COVID19', 'indices': [113, 121]}]</td>\n",
              "    </tr>\n",
              "    <tr>\n",
              "      <th>2</th>\n",
              "      <td>GenerasiYeremia</td>\n",
              "      <td>â××× ××××¨××¡× ×××¤××¢ ××§×¨××....</td>\n",
              "      <td>1 Korintus 10:23; Daniel 9:27</td>\n",
              "      <td>1869.0</td>\n",
              "      <td>2365.0</td>\n",
              "      <td>7415.0</td>\n",
              "      <td>2020-05-18 12:44:27</td>\n",
              "      <td>2021-01-18 05:20:31</td>\n",
              "      <td>0.0</td>\n",
              "      <td>Amen\\n\\n#Akhirzaman\\n#Endtimes\\n#BibleProphecy...</td>\n",
              "      <td>[{'text': 'Akhirzaman', 'indices': [6, 17]}, {...</td>\n",
              "    </tr>\n",
              "    <tr>\n",
              "      <th>3</th>\n",
              "      <td>NoumaanMuhamma1</td>\n",
              "      <td>Allah ka banda, Aadam ka beta!</td>\n",
              "      <td>NaN</td>\n",
              "      <td>236.0</td>\n",
              "      <td>11.0</td>\n",
              "      <td>100.0</td>\n",
              "      <td>2020-06-02 10:15:19</td>\n",
              "      <td>2021-01-18 05:20:28</td>\n",
              "      <td>0.0</td>\n",
              "      <td>2020 shouldn't be include to our age\\n\\n#COVID19</td>\n",
              "      <td>[{'text': 'COVID19', 'indices': [38, 46]}]</td>\n",
              "    </tr>\n",
              "    <tr>\n",
              "      <th>4</th>\n",
              "      <td>viralvideovlogs</td>\n",
              "      <td>news news news and trends\\n\\nhttps://t.co/2ScZ...</td>\n",
              "      <td>à´àµà´°à´³à´</td>\n",
              "      <td>4566.0</td>\n",
              "      <td>5177.0</td>\n",
              "      <td>513416.0</td>\n",
              "      <td>2018-01-13 18:33:01</td>\n",
              "      <td>2021-01-18 05:20:27</td>\n",
              "      <td>1.0</td>\n",
              "      <td>My friend's dad recently tested positive. Inte...</td>\n",
              "      <td>[]</td>\n",
              "    </tr>\n",
              "  </tbody>\n",
              "</table>\n",
              "</div>\n",
              "      <button class=\"colab-df-convert\" onclick=\"convertToInteractive('df-4c735466-4c13-4612-b307-7b20824147ac')\"\n",
              "              title=\"Convert this dataframe to an interactive table.\"\n",
              "              style=\"display:none;\">\n",
              "        \n",
              "  <svg xmlns=\"http://www.w3.org/2000/svg\" height=\"24px\"viewBox=\"0 0 24 24\"\n",
              "       width=\"24px\">\n",
              "    <path d=\"M0 0h24v24H0V0z\" fill=\"none\"/>\n",
              "    <path d=\"M18.56 5.44l.94 2.06.94-2.06 2.06-.94-2.06-.94-.94-2.06-.94 2.06-2.06.94zm-11 1L8.5 8.5l.94-2.06 2.06-.94-2.06-.94L8.5 2.5l-.94 2.06-2.06.94zm10 10l.94 2.06.94-2.06 2.06-.94-2.06-.94-.94-2.06-.94 2.06-2.06.94z\"/><path d=\"M17.41 7.96l-1.37-1.37c-.4-.4-.92-.59-1.43-.59-.52 0-1.04.2-1.43.59L10.3 9.45l-7.72 7.72c-.78.78-.78 2.05 0 2.83L4 21.41c.39.39.9.59 1.41.59.51 0 1.02-.2 1.41-.59l7.78-7.78 2.81-2.81c.8-.78.8-2.07 0-2.86zM5.41 20L4 18.59l7.72-7.72 1.47 1.35L5.41 20z\"/>\n",
              "  </svg>\n",
              "      </button>\n",
              "      \n",
              "  <style>\n",
              "    .colab-df-container {\n",
              "      display:flex;\n",
              "      flex-wrap:wrap;\n",
              "      gap: 12px;\n",
              "    }\n",
              "\n",
              "    .colab-df-convert {\n",
              "      background-color: #E8F0FE;\n",
              "      border: none;\n",
              "      border-radius: 50%;\n",
              "      cursor: pointer;\n",
              "      display: none;\n",
              "      fill: #1967D2;\n",
              "      height: 32px;\n",
              "      padding: 0 0 0 0;\n",
              "      width: 32px;\n",
              "    }\n",
              "\n",
              "    .colab-df-convert:hover {\n",
              "      background-color: #E2EBFA;\n",
              "      box-shadow: 0px 1px 2px rgba(60, 64, 67, 0.3), 0px 1px 3px 1px rgba(60, 64, 67, 0.15);\n",
              "      fill: #174EA6;\n",
              "    }\n",
              "\n",
              "    [theme=dark] .colab-df-convert {\n",
              "      background-color: #3B4455;\n",
              "      fill: #D2E3FC;\n",
              "    }\n",
              "\n",
              "    [theme=dark] .colab-df-convert:hover {\n",
              "      background-color: #434B5C;\n",
              "      box-shadow: 0px 1px 3px 1px rgba(0, 0, 0, 0.15);\n",
              "      filter: drop-shadow(0px 1px 2px rgba(0, 0, 0, 0.3));\n",
              "      fill: #FFFFFF;\n",
              "    }\n",
              "  </style>\n",
              "\n",
              "      <script>\n",
              "        const buttonEl =\n",
              "          document.querySelector('#df-4c735466-4c13-4612-b307-7b20824147ac button.colab-df-convert');\n",
              "        buttonEl.style.display =\n",
              "          google.colab.kernel.accessAllowed ? 'block' : 'none';\n",
              "\n",
              "        async function convertToInteractive(key) {\n",
              "          const element = document.querySelector('#df-4c735466-4c13-4612-b307-7b20824147ac');\n",
              "          const dataTable =\n",
              "            await google.colab.kernel.invokeFunction('convertToInteractive',\n",
              "                                                     [key], {});\n",
              "          if (!dataTable) return;\n",
              "\n",
              "          const docLinkHtml = 'Like what you see? Visit the ' +\n",
              "            '<a target=\"_blank\" href=https://colab.research.google.com/notebooks/data_table.ipynb>data table notebook</a>'\n",
              "            + ' to learn more about interactive tables.';\n",
              "          element.innerHTML = '';\n",
              "          dataTable['output_type'] = 'display_data';\n",
              "          await google.colab.output.renderOutput(dataTable, element);\n",
              "          const docLink = document.createElement('div');\n",
              "          docLink.innerHTML = docLinkHtml;\n",
              "          element.appendChild(docLink);\n",
              "        }\n",
              "      </script>\n",
              "    </div>\n",
              "  </div>\n",
              "  "
            ],
            "text/plain": [
              "          username  ...                                           hashtags\n",
              "0  GenerasiYeremia  ...  [{'text': 'Akhirzaman', 'indices': [21, 32]}, ...\n",
              "1      CuyahogaOEM  ...       [{'text': 'COVID19', 'indices': [113, 121]}]\n",
              "2  GenerasiYeremia  ...  [{'text': 'Akhirzaman', 'indices': [6, 17]}, {...\n",
              "3  NoumaanMuhamma1  ...         [{'text': 'COVID19', 'indices': [38, 46]}]\n",
              "4  viralvideovlogs  ...                                                 []\n",
              "\n",
              "[5 rows x 11 columns]"
            ]
          },
          "metadata": {},
          "execution_count": 4
        }
      ]
    },
    {
      "cell_type": "code",
      "metadata": {
        "colab": {
          "base_uri": "https://localhost:8080/"
        },
        "id": "kWVHLNaA-Ij3",
        "outputId": "b9283b46-2c78-4862-ecc7-58ff5a1875d8"
      },
      "source": [
        "#colonnes \n",
        "df.columns"
      ],
      "execution_count": 5,
      "outputs": [
        {
          "output_type": "execute_result",
          "data": {
            "text/plain": [
              "Index(['username', 'acctdesc', 'location', 'following', 'followers',\n",
              "       'totaltweets', 'usercreatedts', 'tweetcreatedts', 'retweetcount',\n",
              "       'text', 'hashtags'],\n",
              "      dtype='object')"
            ]
          },
          "metadata": {},
          "execution_count": 5
        }
      ]
    },
    {
      "cell_type": "code",
      "metadata": {
        "colab": {
          "base_uri": "https://localhost:8080/"
        },
        "id": "jX8kJH7s-NlB",
        "outputId": "c321f392-9ba0-40f8-bd09-acf8f1b71fd1"
      },
      "source": [
        "#info sur les colonnes\n",
        "df.info()"
      ],
      "execution_count": 6,
      "outputs": [
        {
          "output_type": "stream",
          "name": "stdout",
          "text": [
            "<class 'pandas.core.frame.DataFrame'>\n",
            "RangeIndex: 4135 entries, 0 to 4134\n",
            "Data columns (total 11 columns):\n",
            " #   Column          Non-Null Count  Dtype  \n",
            "---  ------          --------------  -----  \n",
            " 0   username        4135 non-null   object \n",
            " 1   acctdesc        3601 non-null   object \n",
            " 2   location        2932 non-null   object \n",
            " 3   following       4134 non-null   float64\n",
            " 4   followers       4134 non-null   float64\n",
            " 5   totaltweets     4134 non-null   float64\n",
            " 6   usercreatedts   4134 non-null   object \n",
            " 7   tweetcreatedts  4134 non-null   object \n",
            " 8   retweetcount    4134 non-null   float64\n",
            " 9   text            4134 non-null   object \n",
            " 10  hashtags        4134 non-null   object \n",
            "dtypes: float64(4), object(7)\n",
            "memory usage: 355.5+ KB\n"
          ]
        }
      ]
    },
    {
      "cell_type": "code",
      "metadata": {
        "colab": {
          "base_uri": "https://localhost:8080/"
        },
        "id": "LOAwiLbG-VsB",
        "outputId": "bd220d59-f0e8-4214-fe63-e0e3b1fc46b5"
      },
      "source": [
        "#Variable retweetcount\n",
        "df.retweetcount.value_counts()"
      ],
      "execution_count": 7,
      "outputs": [
        {
          "output_type": "execute_result",
          "data": {
            "text/plain": [
              "0.0        814\n",
              "1.0        395\n",
              "2.0        246\n",
              "3.0        181\n",
              "4.0        114\n",
              "          ... \n",
              "194.0        1\n",
              "16344.0      1\n",
              "113.0        1\n",
              "345.0        1\n",
              "3337.0       1\n",
              "Name: retweetcount, Length: 304, dtype: int64"
            ]
          },
          "metadata": {},
          "execution_count": 7
        }
      ]
    },
    {
      "cell_type": "code",
      "metadata": {
        "colab": {
          "base_uri": "https://localhost:8080/",
          "height": 387
        },
        "id": "V7vSE8uv-bdX",
        "outputId": "9048d0db-17e1-4bff-b8fc-f69b875b596d"
      },
      "source": [
        "#retweetcount BARPLOT\n",
        "plt.figure(figsize=(10,6))\n",
        "sns.countplot(x='retweetcount', data = df);"
      ],
      "execution_count": 8,
      "outputs": [
        {
          "output_type": "display_data",
          "data": {
            "image/png": "[encoded data removed]",
            "text/plain": [
              "<Figure size 720x432 with 1 Axes>"
            ]
          },
          "metadata": {
            "needs_background": "light"
          }
        }
      ]
    },
    {
      "cell_type": "code",
      "metadata": {
        "colab": {
          "base_uri": "https://localhost:8080/"
        },
        "id": "elQUw8KY-fuz",
        "outputId": "e00631d6-aee4-4f3c-90c4-58cc3a4df184"
      },
      "source": [
        "#VARIABLE LOCATION\n",
        "df.location.value_counts()"
      ],
      "execution_count": 9,
      "outputs": [
        {
          "output_type": "execute_result",
          "data": {
            "text/plain": [
              "India                   68\n",
              "United States           61\n",
              "New Delhi, India        61\n",
              "à´àµà´°à´³à´         45\n",
              "Bangkok, Thailand       35\n",
              "                        ..\n",
              "Berlin                   1\n",
              "Anakapalli, India        1\n",
              "NorCal, USA              1\n",
              "Quezon City              1\n",
              "Doha ,State of Qatar     1\n",
              "Name: location, Length: 1363, dtype: int64"
            ]
          },
          "metadata": {},
          "execution_count": 9
        }
      ]
    },
    {
      "cell_type": "markdown",
      "source": [
        "# **Classification** **XGBOOST**"
      ],
      "metadata": {
        "id": "fnSdivohd1IK"
      }
    },
    {
      "cell_type": "code",
      "source": [
        "!pip3 install xgboost"
      ],
      "metadata": {
        "colab": {
          "base_uri": "https://localhost:8080/"
        },
        "id": "gf7OWuUySImW",
        "outputId": "def4fb4f-52dc-4ef1-c68c-a43d8b7baab5"
      },
      "execution_count": 10,
      "outputs": [
        {
          "output_type": "stream",
          "name": "stdout",
          "text": [
            "Requirement already satisfied: xgboost in /usr/local/lib/python3.7/dist-packages (0.90)\n",
            "Requirement already satisfied: scipy in /usr/local/lib/python3.7/dist-packages (from xgboost) (1.4.1)\n",
            "Requirement already satisfied: numpy in /usr/local/lib/python3.7/dist-packages (from xgboost) (1.19.5)\n"
          ]
        }
      ]
    },
    {
      "cell_type": "code",
      "source": [
        "from xgboost import XGBClassifier\n",
        "from sklearn.model_selection import train_test_split\n",
        "from sklearn.metrics import accuracy_score\n",
        "from sklearn.datasets import load_wine"
      ],
      "metadata": {
        "id": "W17HVftCSUXM"
      },
      "execution_count": 11,
      "outputs": []
    },
    {
      "cell_type": "code",
      "source": [
        "from sklearn.feature_extraction.text import CountVectorizer\n",
        "from nltk.tokenize import RegexpTokenizer\n",
        "token= RegexpTokenizer(r'[a-zA-Z0-9]+')\n",
        "cv= CountVectorizer(stop_words='english' ,ngram_range=(1,1),tokenizer = token.tokenize)\n",
        "text_counts=cv.fit_transform(data['text'].values.astype('U'))\n",
        "from sklearn.model_selection import train_test_split\n",
        "X_train, X_test, Y_train, Y_test = train_test_split(text_counts, data['retweetcount'], test_size=0.25, random_state=5)"
      ],
      "metadata": {
        "id": "2ihGl8knVgvC"
      },
      "execution_count": 132,
      "outputs": []
    },
    {
      "cell_type": "code",
      "source": [
        "model = XGBClassifier(use_label_encoder=False, eval_metric='mlogloss')"
      ],
      "metadata": {
        "id": "NicK-VrsSj_M"
      },
      "execution_count": 133,
      "outputs": []
    },
    {
      "cell_type": "code",
      "source": [
        "from xgboost import XGBClassifier\n",
        "XGB = XGBClassifier()\n",
        "XGB.fit(X_train, Y_train)\n",
        "from sklearn import metrics\n",
        "predicted= XGB.predict(X_test)\n",
        "accuracy_score = metrics.accuracy_score(predicted, Y_test)\n",
        "print(str('{:04.2F}'.format(accuracy_score*100))+'%')"
      ],
      "metadata": {
        "colab": {
          "base_uri": "https://localhost:8080/"
        },
        "id": "dlhQ-WgyaQBp",
        "outputId": "3078866e-5e69-4d40-a7bc-16efbe9c0711"
      },
      "execution_count": 184,
      "outputs": [
        {
          "output_type": "stream",
          "name": "stdout",
          "text": [
            "43.42%\n"
          ]
        }
      ]
    },
    {
      "cell_type": "markdown",
      "source": [
        "# **Classification random forest**"
      ],
      "metadata": {
        "id": "p_eOAGf7xlLm"
      }
    },
    {
      "cell_type": "code",
      "source": [
        "from sklearn.feature_extraction.text import CountVectorizer\n",
        "from nltk.tokenize import RegexpTokenizer\n",
        "token= RegexpTokenizer(r'[a-zA-Z0-9]+')\n",
        "cv= CountVectorizer(stop_words='english' ,ngram_range=(1,1),tokenizer = token.tokenize)\n",
        "text_counts=cv.fit_transform(data['text'].values.astype('U'))\n",
        "from sklearn.model_selection import train_test_split\n",
        "X_train, X_test, Y_train, Y_test = train_test_split(text_counts, data['retweetcount'].values.astype('U'), test_size=0.25, random_state=5)\n",
        "\n",
        "# importing random forest classifier from assemble module\n",
        "from sklearn.ensemble import RandomForestClassifier\n",
        "clf = RandomForestClassifier(n_estimators = 100) \n",
        "clf.fit(X_train, Y_train)\n",
        "from sklearn import metrics\n",
        "predicted= clf.predict(X_test)\n",
        "accuracy_score = metrics.accuracy_score(predicted, Y_test)\n",
        "print(str('{:04.2F}'.format(accuracy_score*100))+'%')\n",
        "\n",
        "\n"
      ],
      "metadata": {
        "colab": {
          "base_uri": "https://localhost:8080/"
        },
        "id": "UQujrx9EpFoD",
        "outputId": "99614928-4af6-4438-e9c6-22bcee330959"
      },
      "execution_count": 183,
      "outputs": [
        {
          "output_type": "stream",
          "name": "stdout",
          "text": [
            "63.06%\n"
          ]
        }
      ]
    },
    {
      "cell_type": "markdown",
      "metadata": {
        "id": "b8iqFTAC-6eS"
      },
      "source": [
        "# **Classification Naive BAYES**"
      ]
    },
    {
      "cell_type": "markdown",
      "metadata": {
        "id": "KhVxhvzu_GYM"
      },
      "source": [
        "- Classificateur MultinomialNB avec countvectorizer avec Ngram 1 "
      ]
    },
    {
      "cell_type": "code",
      "metadata": {
        "colab": {
          "base_uri": "https://localhost:8080/"
        },
        "id": "Z0sLZYg2-9U-",
        "outputId": "788066cd-f389-40c7-efb9-f2d5ae85ddef"
      },
      "source": [
        "from sklearn.feature_extraction.text import CountVectorizer\n",
        "from nltk.tokenize import RegexpTokenizer\n",
        "token= RegexpTokenizer(r'[a-zA-Z0-9]+')\n",
        "cv= CountVectorizer(stop_words='english' ,ngram_range=(1,1),tokenizer = token.tokenize)\n",
        "text_counts=cv.fit_transform(data['text'].values.astype('U'))\n",
        "from sklearn.model_selection import train_test_split\n",
        "X_train, X_test, Y_train, Y_test = train_test_split(text_counts, data['retweetcount'].values.astype('U'), test_size=0.25, random_state=5)\n",
        "from sklearn.naive_bayes import MultinomialNB\n",
        "MNB = MultinomialNB()\n",
        "MNB.fit(X_train, Y_train)\n",
        "from sklearn import metrics\n",
        "predicted= MNB.predict(X_test)\n",
        "accuracy_score = metrics.accuracy_score(predicted, Y_test)\n",
        "print(str('{:04.2F}'.format(accuracy_score*100))+'%')"
      ],
      "execution_count": 170,
      "outputs": [
        {
          "output_type": "stream",
          "name": "stdout",
          "text": [
            "48.07%\n"
          ]
        }
      ]
    },
    {
      "cell_type": "markdown",
      "metadata": {
        "id": "Gn8ZH7iX_uyx"
      },
      "source": [
        "* Classificateur MultinomialNB avec countvectorizer avec Ngram 2\n",
        "\n"
      ]
    },
    {
      "cell_type": "code",
      "metadata": {
        "colab": {
          "base_uri": "https://localhost:8080/"
        },
        "id": "GQTUBvlp_dVs",
        "outputId": "25b119e5-9e48-458e-ae47-3cf8cd21a453"
      },
      "source": [
        "from sklearn.feature_extraction.text import CountVectorizer\n",
        "from nltk.tokenize import RegexpTokenizer\n",
        "token= RegexpTokenizer(r'[a-zA-Z0-9]+')\n",
        "cv= CountVectorizer(stop_words='english' ,ngram_range=(2,2),tokenizer = token.tokenize)\n",
        "text_counts=cv.fit_transform(data['text'].values.astype('U'))\n",
        "from sklearn.model_selection import train_test_split\n",
        "X_train, X_test, Y_train, Y_test = train_test_split(text_counts, data['retweetcount'].values.astype('U'), test_size=0.25, random_state=5)\n",
        "from sklearn.naive_bayes import MultinomialNB\n",
        "MNB = MultinomialNB()\n",
        "MNB.fit(X_train, Y_train)\n",
        "from sklearn import metrics\n",
        "\n",
        "accuracy_score = metrics.accuracy_score(MNB.predict(X_test), Y_test)\n",
        "print('MultinomialNB = ' +str('{:04.2F}'.format(accuracy_score*100))+'%')"
      ],
      "execution_count": 172,
      "outputs": [
        {
          "output_type": "stream",
          "name": "stdout",
          "text": [
            "MultinomialNB = 52.13%\n"
          ]
        }
      ]
    },
    {
      "cell_type": "markdown",
      "metadata": {
        "id": "zwpe5qjGBztf"
      },
      "source": [
        "* Classificateur ComplementNB avec countvectorizer\n"
      ]
    },
    {
      "cell_type": "code",
      "metadata": {
        "colab": {
          "base_uri": "https://localhost:8080/"
        },
        "id": "Joqck4tpB-1G",
        "outputId": "363d3cf0-e886-4b28-8560-085e9e04a2de"
      },
      "source": [
        "from sklearn.feature_extraction.text import CountVectorizer\n",
        "from nltk.tokenize import RegexpTokenizer\n",
        "token= RegexpTokenizer(r'[a-zA-Z0-9]+')\n",
        "cv=CountVectorizer(stop_words='english' ,ngram_range=(1,1),tokenizer = token.tokenize)\n",
        "text_counts=cv.fit_transform(data['text'].values.astype('U'))\n",
        "from sklearn.model_selection import train_test_split\n",
        "X_train, X_test, Y_train, Y_test = train_test_split(text_counts, data['retweetcount'].values.astype('U'), test_size=0.25, random_state=5)\n",
        "\n",
        "from sklearn.naive_bayes import ComplementNB\n",
        "CNB = ComplementNB()\n",
        "CNB.fit(X_train, Y_train)\n",
        "\n",
        "\n",
        "from sklearn import metrics\n",
        "\n",
        "predicted= CNB.predict(X_test)\n",
        "accuracy_score = metrics.accuracy_score(predicted, Y_test)\n",
        "print(str('{:04.2F}'.format(accuracy_score*100))+'%')"
      ],
      "execution_count": 174,
      "outputs": [
        {
          "output_type": "stream",
          "name": "stdout",
          "text": [
            "50.87%\n"
          ]
        }
      ]
    },
    {
      "cell_type": "markdown",
      "metadata": {
        "id": "gsWAxGfbED8G"
      },
      "source": [
        "* Classificateur BernouilliNB avec countvectorizer\n",
        "\n"
      ]
    },
    {
      "cell_type": "code",
      "metadata": {
        "colab": {
          "base_uri": "https://localhost:8080/"
        },
        "id": "xUj-2xuQELIj",
        "outputId": "d5c21b4a-b530-47af-dd3e-4ad44265e0e8"
      },
      "source": [
        "from sklearn.naive_bayes import BernoulliNB\n",
        "BNB = BernoulliNB()\n",
        "BNB.fit(X_train, Y_train)\n",
        "\n",
        "\n",
        "from sklearn import metrics\n",
        "\n",
        "predicted= BNB.predict(X_test)\n",
        "accuracy_score = metrics.accuracy_score(predicted, Y_test)\n",
        "print(str('{:04.2F}'.format(accuracy_score*100))+'%')"
      ],
      "execution_count": 197,
      "outputs": [
        {
          "output_type": "stream",
          "name": "stdout",
          "text": [
            "18.96%\n"
          ]
        }
      ]
    },
    {
      "cell_type": "markdown",
      "metadata": {
        "id": "KBykwOfcES3W"
      },
      "source": [
        "* Différent algorithme naive bayes avec TF-IDF"
      ]
    },
    {
      "cell_type": "code",
      "metadata": {
        "colab": {
          "base_uri": "https://localhost:8080/"
        },
        "id": "6DEgh3eJEbxs",
        "outputId": "1e849491-8bd3-463d-c99c-dc861de969df"
      },
      "source": [
        "from sklearn.feature_extraction.text import TfidfVectorizer\n",
        "tfidf = TfidfVectorizer()\n",
        "text_counts_2 = tfidf.fit_transform(data[\"text\"].values.astype('U'))\n",
        "from sklearn.model_selection import train_test_split\n",
        "x_train, x_test, y_train, y_test = train_test_split(text_counts_2, data['retweetcount'].values.astype('U'), test_size=0.25, random_state=42)\n",
        "#\n",
        "MNB.fit(x_train, y_train)\n",
        "MNBaccuracy_score = metrics.accuracy_score(MNB.predict(x_test), y_test)\n",
        "print('Multinominal NB = ' +str('{:04.2F}'.format(MNBaccuracy_score*100))+'%')\n",
        "#\n",
        "CNB.fit(x_train, y_train)\n",
        "CNBaccuracy_score = metrics.accuracy_score(CNB.predict(x_test), y_test)\n",
        "print('Complement  NB = ' +str('{:04.2F}'.format(CNBaccuracy_score*100))+'%')\n",
        "BNB.fit(x_train, y_train)\n",
        "BNBaccuracy_score = metrics.accuracy_score(BNB.predict(x_test), y_test)\n",
        "print('Bernoulli NB = ' +str('{:04.2F}'.format(BNBaccuracy_score*100))+'%')"
      ],
      "execution_count": 177,
      "outputs": [
        {
          "output_type": "stream",
          "name": "stdout",
          "text": [
            "Multinominal NB = 26.02%\n",
            "Complement  NB = 51.74%\n",
            "Bernoulli NB = 19.25%\n"
          ]
        }
      ]
    },
    {
      "cell_type": "markdown",
      "metadata": {
        "id": "lXXateuUEsnl"
      },
      "source": [
        "# **Matrice de confusion**"
      ]
    },
    {
      "cell_type": "code",
      "metadata": {
        "colab": {
          "base_uri": "https://localhost:8080/",
          "height": 330
        },
        "id": "qXeIMVIPE1QH",
        "outputId": "e57b3ea5-7cce-4234-934d-aa2e62768bcd"
      },
      "source": [
        "\n",
        "from sklearn.metrics import confusion_matrix\n",
        "\n",
        "MNB.fit(x_train, y_train)\n",
        "pred = MNB.predict(x_test)\n",
        "mat = confusion_matrix(pred, y_test)\n",
        "names = np.unique(pred)\n",
        "sns.heatmap(mat, square=True, annot=True, fmt='d', cbar=False,\n",
        "            xticklabels=names, yticklabels=names)\n",
        "plt.xlabel('Vérité')\n",
        "plt.ylabel('prédit')\n",
        "plt.title(\"Confusion Matrix\")"
      ],
      "execution_count": 178,
      "outputs": [
        {
          "output_type": "execute_result",
          "data": {
            "text/plain": [
              "Text(0.5, 1.0, 'Confusion Matrix')"
            ]
          },
          "metadata": {},
          "execution_count": 178
        },
        {
          "output_type": "display_data",
          "data": {
            "image/png": "[encoded data removed]",
            "text/plain": [
              "<Figure size 432x288 with 1 Axes>"
            ]
          },
          "metadata": {
            "needs_background": "light"
          }
        }
      ]
    },
    {
      "cell_type": "markdown",
      "metadata": {
        "id": "otbvWv0mE-CN"
      },
      "source": [
        "# **Classificateur SVM**"
      ]
    },
    {
      "cell_type": "code",
      "metadata": {
        "colab": {
          "base_uri": "https://localhost:8080/"
        },
        "id": "lvwhvB0yFBxy",
        "outputId": "a644483c-3a00-47af-bfe8-b6b6b9e8cc5e"
      },
      "source": [
        "from sklearn.svm import LinearSVC\n",
        "LSVC = LinearSVC()\n",
        "#ON TF_idf data\n",
        "print('On Tf_idf') \n",
        "LSVC.fit(x_train, y_train)\n",
        "accuracy_score_lsvc = metrics.accuracy_score(LSVC.predict(x_test), y_test)\n",
        "print('accuuracy_score_lsvc= ' + str('{:04.2F}'.format(accuracy_score_lsvc*100))+'%')\n",
        "print('on countvectorizer data') \n",
        "LSVC.fit(X_train, Y_train)\n",
        "accuracy_score_lsvc2 = metrics.accuracy_score(LSVC.predict(X_test), Y_test)\n",
        "print('accuuracy_score_lsvc= ' + str('{:04.2F}'.format(accuracy_score_lsvc2*100))+'%')"
      ],
      "execution_count": 179,
      "outputs": [
        {
          "output_type": "stream",
          "name": "stdout",
          "text": [
            "On Tf_idf\n",
            "accuuracy_score_lsvc= 60.64%\n",
            "on countvectorizer data\n",
            "accuuracy_score_lsvc= 60.83%\n"
          ]
        },
        {
          "output_type": "stream",
          "name": "stderr",
          "text": [
            "/usr/local/lib/python3.7/dist-packages/sklearn/svm/_base.py:1208: ConvergenceWarning:\n",
            "\n",
            "Liblinear failed to converge, increase the number of iterations.\n",
            "\n"
          ]
        }
      ]
    },
    {
      "cell_type": "markdown",
      "metadata": {
        "id": "HVVC-rFtFOIE"
      },
      "source": [
        "# **Comparaison des classificateurs**"
      ]
    },
    {
      "cell_type": "code",
      "metadata": {
        "colab": {
          "base_uri": "https://localhost:8080/",
          "height": 281
        },
        "id": "ZmpfAGs-FNNV",
        "outputId": "3ff16e91-a840-41c2-ae53-ade7d2f88f8f"
      },
      "source": [
        "plt.bar(0,CLFaccuracy_score*100,5, label=\"CLF\")\n",
        "plt.bar(5,XGBaccuracy_score*100,5, label=\"XGB\")\n",
        "plt.bar(10,accuracy_score_lsvc*100,5, label=\"SVM TF\")\n",
        "plt.bar(15,MNBaccuracy_score*100,5, label=\"MNB TF\")\n",
        "plt.bar(20,CNBaccuracy_score*100,5, label=\"CNB TF\")\n",
        "plt.bar(25,BNBaccuracy_score*100,5, label=\"BNB TF\")\n",
        "plt.legend()\n",
        "plt.ylabel('ACCUARCAY TF IDF')\n",
        "plt.title('Précison des classificateurs')\n",
        "plt.show()"
      ],
      "execution_count": 192,
      "outputs": [
        {
          "output_type": "display_data",
          "data": {
            "image/png": "[encoded data removed]",
            "text/plain": [
              "<Figure size 432x288 with 1 Axes>"
            ]
          },
          "metadata": {
            "needs_background": "light"
          }
        }
      ]
    }
  ]
}